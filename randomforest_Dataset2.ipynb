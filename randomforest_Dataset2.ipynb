{
  "cells": [
    {
      "cell_type": "markdown",
      "metadata": {
        "id": "view-in-github",
        "colab_type": "text"
      },
      "source": [
        "<a href=\"https://colab.research.google.com/github/sricharithanarra/Named-Entity-Recognition-for-Medical-Text/blob/main/randomforest_Dataset2.ipynb\" target=\"_parent\"><img src=\"https://colab.research.google.com/assets/colab-badge.svg\" alt=\"Open In Colab\"/></a>"
      ]
    },
    {
      "cell_type": "code",
      "execution_count": null,
      "metadata": {
        "id": "XPgKaLJJaGk7"
      },
      "outputs": [],
      "source": [
        "# Import required libraries\n",
        "import numpy as np\n",
        "import pandas as pd\n",
        "import matplotlib.pyplot as plt\n",
        "import seaborn as sns\n",
        "import warnings\n",
        "warnings.filterwarnings('ignore')\n",
        "from sklearn import preprocessing\n",
        "from sklearn.metrics import accuracy_score, classification_report\n",
        "from pprint import pprint"
      ]
    },
    {
      "cell_type": "code",
      "execution_count": null,
      "metadata": {
        "colab": {
          "base_uri": "https://localhost:8080/"
        },
        "id": "9FOZ-9EMoOYQ",
        "outputId": "949af5c6-611d-4c5e-c5b6-579bf23e8156"
      },
      "outputs": [
        {
          "name": "stdout",
          "output_type": "stream",
          "text": [
            "'Train dataset shape: (1025602, 221)'\n",
            "'Test dataset shape: (134529, 221)'\n"
          ]
        }
      ],
      "source": [
        "# Read the training and test dataset -- Took a minute\n",
        "\n",
        "train_df = pd.read_csv('processed_train(1).csv', low_memory=False)\n",
        "test_df = pd.read_csv('processed_test.csv', low_memory=False)\n",
        "pprint(f'Train dataset shape: {train_df.shape}')\n",
        "pprint(f'Test dataset shape: {test_df.shape}')"
      ]
    },
    {
      "cell_type": "markdown",
      "metadata": {
        "id": "Acd8_pEVIusY"
      },
      "source": [
        "Dataset is imbalanced. Need to explore more."
      ]
    },
    {
      "cell_type": "code",
      "execution_count": null,
      "metadata": {
        "colab": {
          "base_uri": "https://localhost:8080/"
        },
        "id": "q3rnkLOGsEu7",
        "outputId": "f177c308-3c40-4a7c-cccd-2deed185e18a"
      },
      "outputs": [
        {
          "name": "stdout",
          "output_type": "stream",
          "text": [
            "<class 'pandas.core.frame.DataFrame'>\n",
            "RangeIndex: 1025602 entries, 0 to 1025601\n",
            "Columns: 221 entries, Unnamed: 0 to Are you of Asian descent?\n",
            "dtypes: float64(208), int64(2), object(11)\n",
            "memory usage: 1.7+ GB\n",
            "{'Characterize your pain:': dtype('O'),\n",
            " 'Do you feel pain somewhere?': dtype('O'),\n",
            " 'Do your lesions peel off?': dtype('O'),\n",
            " 'Does the pain radiate to another location?': dtype('O'),\n",
            " 'Have you traveled out of the country in the last 4 weeks?': dtype('O'),\n",
            " 'Is the lesion (or are the lesions) larger than 1cm?': dtype('O'),\n",
            " 'PATHOLOGY': dtype('O'),\n",
            " 'SEX': dtype('O'),\n",
            " 'What color is the rash?': dtype('O'),\n",
            " 'Where is the affected region located?': dtype('O'),\n",
            " 'Where is the swelling located?': dtype('O')}\n"
          ]
        }
      ],
      "source": [
        "# Info about data and categorical columns\n",
        "train_df.info()\n",
        "categorical_column_data_types = {col: train_df[col].dtype for col in train_df.columns if train_df[col].dtype == 'O'}\n",
        "pprint(categorical_column_data_types)"
      ]
    },
    {
      "cell_type": "markdown",
      "metadata": {
        "id": "MzpWct5xIk0p"
      },
      "source": [
        "We have 10 categorical columns that need to encoded."
      ]
    },
    {
      "cell_type": "code",
      "execution_count": null,
      "metadata": {
        "colab": {
          "base_uri": "https://localhost:8080/"
        },
        "id": "UySs0OuCuXDs",
        "outputId": "07815ad5-ba45-44ea-e182-5cec642158a0"
      },
      "outputs": [
        {
          "name": "stdout",
          "output_type": "stream",
          "text": [
            "{'Characterize your pain:': array(['heavy', 'exhausting', 'sharp', 'burning', 'a cramp', '0',\n",
            "       'heartbreaking', 'sickening', 'sensitive', 'scary',\n",
            "       'a knife stroke', 'tugging', 'violent', 'a pulse', 'haunting',\n",
            "       'tedious', nan], dtype=object),\n",
            " 'Do you feel pain somewhere?': array(['temple(L)', 'posterior chest wall(L)', 'eye(R)', 'pharynx', '0',\n",
            "       'temple(R)', 'epigastric', 'breast(L)', 'iliac fossa(L)', 'pubis',\n",
            "       'occiput', 'testicle(L)', 'posterior chest wall(R)', 'shoulder(L)',\n",
            "       'under the jaw', 'hypochondrium(R)', 'forehead', 'trachea',\n",
            "       'sole(L)', 'finger (middle)(R)', 'shoulder(R)', 'breast(R)',\n",
            "       'dorsal aspect of the foot(L)', 'belly', 'eye(L)', 'nose',\n",
            "       'hip(L)', 'top of the head', 'triceps(R)', 'finger (middle)(L)',\n",
            "       'ear(L)', 'ear(R)', 'nowhere', 'sole(R)', 'upper chest',\n",
            "       'cheek(L)', 'hypochondrium(L)', 'knee(R)', 'back of head',\n",
            "       'palace', 'testicle(R)', 'lower chest',\n",
            "       'dorsal aspect of the foot(R)', 'tibia(R)',\n",
            "       'dorsal aspect of the wrist(L)', 'dorsal aspect of the wrist(R)',\n",
            "       'tibia(L)', 'side of the chest(L)', 'calf(R)', 'hip(R)',\n",
            "       'iliac fossa(R)', 'thyroid cartilage', 'toe (1)(R)', 'flank(L)',\n",
            "       'tonsil(R)', 'finger (index)(R)', 'palmar face of the wrist(L)',\n",
            "       'palmar face of the wrist(R)', 'finger (index)(L)', 'calf(L)',\n",
            "       'cheek(R)', 'toe (1)(L)', 'side of the chest(R)', 'thigh(L)',\n",
            "       'toe (2)(L)', 'toe (2)(R)', 'tonsil(L)', 'side of the neck(L)',\n",
            "       'knee(L)', 'back of the neck', 'scapula(R)', 'cervical spine',\n",
            "       'scapula(L)', 'little toe (4)(L)', 'thigh(R)', 'mouth',\n",
            "       'toe (3)(L)', 'triceps(L)', 'side of the neck(R)', 'flank(R)',\n",
            "       'toe (3)(R)', 'little toe (4)(R)', 'thumb(L)', 'thumb(R)',\n",
            "       'ankle(L)', 'thoracic spine', 'biceps(R)', 'biceps(L)'],\n",
            "      dtype=object),\n",
            " 'Do your lesions peel off?': array(['0', 'N', 'Y'], dtype=object),\n",
            " 'Does the pain radiate to another location?': array(['nowhere', 'temple(L)', 'temple(R)', '0', 'shoulder(L)',\n",
            "       'scapula(L)', 'shoulder(R)', 'posterior chest wall(L)',\n",
            "       'lower chest', 'under the jaw', 'upper chest', 'nose',\n",
            "       'triceps(L)', 'thoracic spine', 'posterior chest wall(R)',\n",
            "       'scapula(R)', 'triceps(R)', 'back of head', 'breast(L)',\n",
            "       'forehead', 'trachea', 'breast(R)', 'jaw', 'chin', 'biceps(R)',\n",
            "       'thyroid cartilage', 'biceps(L)', 'side of the chest(L)'],\n",
            "      dtype=object),\n",
            " 'Have you traveled out of the country in the last 4 weeks?': array(['N', 'Central America', 'North America', 'West Africa', 'Asia',\n",
            "       'South America', 'North Africa', 'Caraibes', 'South East Asia',\n",
            "       'South Africa', 'Europe'], dtype=object),\n",
            " 'Is the lesion (or are the lesions) larger than 1cm?': array(['0', 'Y', 'N'], dtype=object),\n",
            " 'PATHOLOGY': array(['URTI', 'HIV (initial infection)', 'Pneumonia',\n",
            "       'Chronic rhinosinusitis', 'Viral pharyngitis', 'Anemia',\n",
            "       'Atrial fibrillation', 'Allergic sinusitis', 'Larygospasm',\n",
            "       'Cluster headache', 'Anaphylaxis', 'Spontaneous pneumothorax',\n",
            "       'Acute pulmonary edema', 'Tuberculosis', 'Myasthenia gravis',\n",
            "       'Panic attack', 'Scombroid food poisoning', 'Epiglottitis',\n",
            "       'Inguinal hernia', 'Boerhaave', 'Pancreatic neoplasm',\n",
            "       'Bronchitis', 'SLE', 'Acute laryngitis', 'Unstable angina',\n",
            "       'Bronchiectasis', 'Possible NSTEMI / STEMI', 'Chagas',\n",
            "       'Localized edema', 'Sarcoidosis', 'Spontaneous rib fracture',\n",
            "       'GERD', 'Bronchospasm / acute asthma exacerbation',\n",
            "       'Acute COPD exacerbation / infection', 'Guillain-Barré syndrome',\n",
            "       'Influenza', 'Pulmonary embolism', 'Stable angina', 'Pericarditis',\n",
            "       'Acute rhinosinusitis', 'Whooping cough', 'Myocarditis',\n",
            "       'Acute dystonic reactions', 'Pulmonary neoplasm',\n",
            "       'Acute otitis media', 'PSVT', 'Croup', 'Ebola', 'Bronchiolitis'],\n",
            "      dtype=object),\n",
            " 'SEX': array(['M', 'F'], dtype=object),\n",
            " 'What color is the rash?': array(['0', 'pale', 'pink', 'yellow', 'red', nan], dtype=object),\n",
            " 'Where is the affected region located?': array(['0', 'internal cheek(L)', 'flank(L)', 'ankle(R)', 'thoracic spine',\n",
            "       'iliac fossa(L)', 'epigastric', 'nose', 'nowhere',\n",
            "       'cervical spine', 'commissure(L)', 'thyroid cartilage', 'forehead',\n",
            "       'ankle(L)', 'side of the neck(R)', 'bottom lip(R)', 'penis',\n",
            "       'iliac fossa(R)', 'shoulder(R)', 'buttock(L)', 'cheek(L)',\n",
            "       'labia minora(R)', 'side of the neck(L)', 'belly',\n",
            "       'internal cheek(R)', 'palace', 'back of the neck', 'upper lip(R)',\n",
            "       'shoulder(L)', 'lumbar spine', 'posterior chest wall(R)',\n",
            "       'posterior chest wall(L)', 'flank(R)', 'cheek(R)', 'thigh(L)',\n",
            "       'thigh(R)', 'buttock(R)', 'commissure(R)', 'labia minora(L)',\n",
            "       'scrotum', 'under the tongue', 'testicle(R)',\n",
            "       'dorsal aspect of the hand(R)', 'testicle(L)'], dtype=object),\n",
            " 'Where is the swelling located?': array(['0', 'cheek(L)', 'tibia(L)', 'nowhere',\n",
            "       'dorsal aspect of the foot(R)', 'nose', 'calf(R)',\n",
            "       'dorsal aspect of the foot(L)', 'calf(L)', 'sole(L)',\n",
            "       'posterior aspect of the ankle(L)', 'sole(R)', 'tibia(R)',\n",
            "       'cheek(R)', 'posterior aspect of the ankle(R)', 'ankle(L)',\n",
            "       'forehead', 'thigh(R)', 'ankle(R)', 'thigh(L)', 'toe (1)(R)',\n",
            "       'toe (1)(L)', 'toe (2)(R)'], dtype=object)}\n"
          ]
        }
      ],
      "source": [
        "# View values of categorical columns\n",
        "unique_values = {col: train_df[col].unique() for col in train_df.columns if train_df[col].dtype == 'O'}\n",
        "pprint(unique_values)\n"
      ]
    },
    {
      "cell_type": "code",
      "execution_count": null,
      "metadata": {
        "colab": {
          "base_uri": "https://localhost:8080/"
        },
        "id": "_f6A4kkgz9rz",
        "outputId": "353122f1-fb1f-483d-91cb-df5fc038ae3a"
      },
      "outputs": [
        {
          "name": "stdout",
          "output_type": "stream",
          "text": [
            "['Characterize your pain:', 'What color is the rash?']\n",
            "['Characterize your pain:', 'What color is the rash?']\n"
          ]
        }
      ],
      "source": [
        "# Check if there are any nans values\n",
        "pprint(train_df.columns[train_df.isna().any()].tolist())\n",
        "pprint(test_df.columns[test_df.isna().any()].tolist())"
      ]
    },
    {
      "cell_type": "code",
      "execution_count": null,
      "metadata": {
        "colab": {
          "base_uri": "https://localhost:8080/"
        },
        "id": "SKidZsLA2TGI",
        "outputId": "6e247a22-282c-4d9d-b458-78a46ef29eeb"
      },
      "outputs": [
        {
          "name": "stdout",
          "output_type": "stream",
          "text": [
            "10859\n",
            "32609\n",
            "1379\n",
            "4436\n"
          ]
        }
      ],
      "source": [
        "# Count of NAN in the columns -- drop these rows\n",
        "\n",
        "print(train_df['Characterize your pain:'].isna().sum())\n",
        "print(train_df['What color is the rash?'].isna().sum())\n",
        "print(test_df['Characterize your pain:'].isna().sum())\n",
        "print(test_df['What color is the rash?'].isna().sum())"
      ]
    },
    {
      "cell_type": "code",
      "execution_count": null,
      "metadata": {
        "id": "oxkY2ksJ3A1E"
      },
      "outputs": [],
      "source": [
        "# Drop rows with NAN values\n",
        "\n",
        "train_df_nonan = train_df.dropna(subset=['Characterize your pain:', 'What color is the rash?'])\n",
        "test_df_nonan = test_df.dropna(subset=['Characterize your pain:', 'What color is the rash?'])"
      ]
    },
    {
      "cell_type": "code",
      "execution_count": null,
      "metadata": {
        "colab": {
          "base_uri": "https://localhost:8080/"
        },
        "id": "I7wdg5RuRV9j",
        "outputId": "dbbce49d-bcb3-499a-c514-ac676b0fd73d"
      },
      "outputs": [
        {
          "name": "stdout",
          "output_type": "stream",
          "text": [
            "0\n",
            "0\n",
            "0\n",
            "0\n"
          ]
        }
      ],
      "source": [
        "# Count of NAN in the columns after drop\n",
        "\n",
        "print(train_df_nonan['Characterize your pain:'].isna().sum())\n",
        "print(train_df_nonan['What color is the rash?'].isna().sum())\n",
        "print(test_df_nonan['Characterize your pain:'].isna().sum())\n",
        "print(test_df_nonan['What color is the rash?'].isna().sum())"
      ]
    },
    {
      "cell_type": "code",
      "execution_count": null,
      "metadata": {
        "colab": {
          "base_uri": "https://localhost:8080/"
        },
        "id": "PFpgVq-fRqmF",
        "outputId": "33ede167-48f2-4bd0-ac2e-11faff74ac74"
      },
      "outputs": [
        {
          "name": "stdout",
          "output_type": "stream",
          "text": [
            "'Train dataset shape: (982224, 221)'\n",
            "'Test dataset shape: (128726, 221)'\n"
          ]
        }
      ],
      "source": [
        "pprint(f'Train dataset shape: {train_df_nonan.shape}')\n",
        "pprint(f'Test dataset shape: {test_df_nonan.shape}')"
      ]
    },
    {
      "cell_type": "code",
      "execution_count": null,
      "metadata": {
        "colab": {
          "base_uri": "https://localhost:8080/"
        },
        "id": "1DUqrjKjolXy",
        "outputId": "6f8276cf-d0b8-4a90-8295-decd65eaf876"
      },
      "outputs": [
        {
          "name": "stdout",
          "output_type": "stream",
          "text": [
            "'X_train shape: (982224, 219)'\n",
            "'y_train shape: (982224,)'\n",
            "'X_test shape: (128726, 219)'\n",
            "'y_test shape: (128726,)'\n"
          ]
        }
      ],
      "source": [
        "# Prepare training and test variables\n",
        "X_columns = [col for col in train_df_nonan.columns if col not in ['Unnamed: 0', 'PATHOLOGY']]\n",
        "X_train = train_df_nonan[X_columns]\n",
        "y_train = train_df_nonan['PATHOLOGY']\n",
        "X_test = test_df_nonan[X_columns]\n",
        "y_test = test_df_nonan['PATHOLOGY']\n",
        "pprint(f'X_train shape: {X_train.shape}')\n",
        "pprint(f'y_train shape: {y_train.shape}')\n",
        "pprint(f'X_test shape: {X_test.shape}')\n",
        "pprint(f'y_test shape: {y_test.shape}')\n"
      ]
    },
    {
      "cell_type": "code",
      "execution_count": null,
      "metadata": {
        "id": "USrLg5hKvKOb"
      },
      "outputs": [],
      "source": [
        "from sklearn.preprocessing import LabelEncoder\n",
        "\n",
        "# Initialize a label encoder\n",
        "le = LabelEncoder()\n",
        "\n",
        "categorical_columns = list(unique_values.keys())\n",
        "# Remove Pathology column - Not needed for Decision Trees\n",
        "categorical_columns.remove('PATHOLOGY')\n",
        "\n",
        "# Reset indices of both X_train and X_test\n",
        "X_train_reset = X_train.reset_index(drop=True)\n",
        "X_test_reset = X_test.reset_index(drop=True)\n",
        "\n",
        "# Combine the train and test data\n",
        "combined = pd.concat([X_train_reset, X_test_reset], axis=0)\n",
        "\n",
        "# Label encode the combined dataframe for each categorical column\n",
        "for col in categorical_columns:\n",
        "    combined[col] = le.fit_transform(combined[col])\n",
        "\n",
        "combined_encoded = combined\n",
        "\n",
        "# Split the combined_encoded dataframe back into train and test\n",
        "X_train_encoded = combined_encoded.iloc[:len(X_train)]\n",
        "X_test_encoded = combined_encoded.iloc[len(X_train):]"
      ]
    },
    {
      "cell_type": "code",
      "execution_count": null,
      "metadata": {
        "colab": {
          "base_uri": "https://localhost:8080/"
        },
        "id": "DMakw-EsW5Kj",
        "outputId": "acf4e1e5-be82-4b6a-8e1b-f50059a04664"
      },
      "outputs": [
        {
          "name": "stdout",
          "output_type": "stream",
          "text": [
            "'X_train shape: (982224, 219)'\n",
            "'X_test shape: (128726, 219)'\n"
          ]
        }
      ],
      "source": [
        "# Check dimension after encoding\n",
        "pprint(f'X_train shape: {X_train_encoded.shape}')\n",
        "pprint(f'X_test shape: {X_test_encoded.shape}')"
      ]
    },
    {
      "cell_type": "code",
      "execution_count": null,
      "metadata": {
        "id": "VGybNUtR-wdg"
      },
      "outputs": [],
      "source": [
        "from sklearn.ensemble import RandomForestClassifier"
      ]
    },
    {
      "cell_type": "code",
      "execution_count": null,
      "metadata": {
        "id": "0LHm1w1OolgX"
      },
      "outputs": [],
      "source": [
        "# randomforest\n",
        "# Initialize the RandomForestClassifier with a random_state of 42\n",
        "rfc = RandomForestClassifier(random_state=42)\n",
        "\n",
        "# Fit the model on the training data\n",
        "rfc.fit(X_train_encoded, y_train)\n",
        "\n",
        "# Make predictions on the testing data\n",
        "y_pred = rfc.predict(X_test_encoded)\n"
      ]
    },
    {
      "cell_type": "code",
      "execution_count": null,
      "metadata": {
        "colab": {
          "base_uri": "https://localhost:8080/"
        },
        "id": "8JF7YFc6oljv",
        "outputId": "b046cf76-0526-46f2-e417-e08f6c1b8679"
      },
      "outputs": [
        {
          "name": "stdout",
          "output_type": "stream",
          "text": [
            "The accuracy score is 99.36%\n",
            "Classification Report\n",
            "                                          precision    recall  f1-score   support\n",
            "\n",
            "     Acute COPD exacerbation / infection       1.00      1.00      1.00      2153\n",
            "                Acute dystonic reactions       1.00      1.00      1.00      3302\n",
            "                        Acute laryngitis       0.99      0.99      0.99      3214\n",
            "                      Acute otitis media       1.00      1.00      1.00      3509\n",
            "                   Acute pulmonary edema       1.00      1.00      1.00      2598\n",
            "                    Acute rhinosinusitis       0.86      0.73      0.79      1829\n",
            "                      Allergic sinusitis       1.00      1.00      1.00      2411\n",
            "                             Anaphylaxis       1.00      1.00      1.00      3798\n",
            "                                  Anemia       1.00      1.00      1.00      6770\n",
            "                     Atrial fibrillation       1.00      1.00      1.00      2831\n",
            "                               Boerhaave       1.00      1.00      1.00      2083\n",
            "                          Bronchiectasis       1.00      1.00      1.00      2454\n",
            "                           Bronchiolitis       1.00      1.00      1.00        36\n",
            "                              Bronchitis       1.00      1.00      1.00      3577\n",
            "Bronchospasm / acute asthma exacerbation       1.00      1.00      1.00      2222\n",
            "                                  Chagas       1.00      1.00      1.00      1077\n",
            "                  Chronic rhinosinusitis       0.83      0.92      0.88      2747\n",
            "                        Cluster headache       1.00      1.00      1.00      2825\n",
            "                                   Croup       1.00      1.00      1.00       344\n",
            "                                   Ebola       1.00      1.00      1.00       100\n",
            "                            Epiglottitis       1.00      1.00      1.00      2364\n",
            "                                    GERD       1.00      1.00      1.00      3514\n",
            "                 Guillain-Barré syndrome       1.00      1.00      1.00      2601\n",
            "                 HIV (initial infection)       1.00      1.00      1.00      3904\n",
            "                               Influenza       1.00      1.00      1.00      3097\n",
            "                         Inguinal hernia       1.00      1.00      1.00      2488\n",
            "                             Larygospasm       1.00      1.00      1.00       785\n",
            "                         Localized edema       1.00      1.00      1.00      3734\n",
            "                       Myasthenia gravis       1.00      1.00      1.00      2215\n",
            "                             Myocarditis       1.00      1.00      1.00      1468\n",
            "                                    PSVT       1.00      1.00      1.00      1635\n",
            "                     Pancreatic neoplasm       1.00      1.00      1.00      1779\n",
            "                            Panic attack       1.00      1.00      1.00      3387\n",
            "                            Pericarditis       1.00      1.00      1.00      3095\n",
            "                               Pneumonia       1.00      1.00      1.00      3454\n",
            "                 Possible NSTEMI / STEMI       1.00      1.00      1.00      2911\n",
            "                      Pulmonary embolism       1.00      1.00      1.00      3679\n",
            "                      Pulmonary neoplasm       1.00      1.00      1.00      1673\n",
            "                                     SLE       1.00      1.00      1.00      1514\n",
            "                Scombroid food poisoning       1.00      1.00      1.00      2486\n",
            "                Spontaneous pneumothorax       1.00      1.00      1.00      1343\n",
            "                Spontaneous rib fracture       1.00      1.00      1.00       778\n",
            "                           Stable angina       0.98      1.00      0.99      2386\n",
            "                            Tuberculosis       1.00      1.00      1.00      2080\n",
            "                                    URTI       1.00      1.00      1.00      8713\n",
            "                         Unstable angina       1.00      0.98      0.99      2880\n",
            "                       Viral pharyngitis       1.00      1.00      1.00      8334\n",
            "                          Whooping cough       1.00      1.00      1.00       549\n",
            "\n",
            "                                accuracy                           0.99    128726\n",
            "                               macro avg       0.99      0.99      0.99    128726\n",
            "                            weighted avg       0.99      0.99      0.99    128726\n",
            "\n"
          ]
        }
      ],
      "source": [
        "# Evaluate the Model\n",
        "\n",
        "accuracy = accuracy_score(y_test, y_pred)\n",
        "print(f'The accuracy score is {accuracy * 100:.2f}%')\n",
        "print(\"Classification Report\")\n",
        "print(classification_report(y_test, y_pred))"
      ]
    },
    {
      "cell_type": "code",
      "execution_count": null,
      "metadata": {
        "id": "LZVVO_ZDWjjF"
      },
      "outputs": [],
      "source": [
        "from sklearn.metrics import confusion_matrix"
      ]
    },
    {
      "cell_type": "code",
      "execution_count": null,
      "metadata": {
        "id": "Hg1C_2oRWjjF",
        "outputId": "429560f2-016d-4553-aa33-671922ed06d4"
      },
      "outputs": [
        {
          "data": {
            "text/plain": [
              "array([[2153,    0,    0, ...,    0,    0,    0],\n",
              "       [   0, 3302,    0, ...,    0,    0,    0],\n",
              "       [   0,    0, 3191, ...,    0,   23,    0],\n",
              "       ...,\n",
              "       [   0,    0,    0, ..., 2832,    0,    0],\n",
              "       [   0,    0,   28, ...,    0, 8305,    0],\n",
              "       [   0,    0,    0, ...,    0,    0,  549]], dtype=int64)"
            ]
          },
          "execution_count": 27,
          "metadata": {},
          "output_type": "execute_result"
        }
      ],
      "source": [
        "# View confusion matrix for test data and predictions\n",
        "confusion_matrix(y_test, y_pred)"
      ]
    },
    {
      "cell_type": "code",
      "execution_count": null,
      "metadata": {
        "id": "PQRo66yiWjjG",
        "outputId": "f37866e4-4b62-471a-a1ce-ec333d3a34b0"
      },
      "outputs": [
        {
          "data": {
            "image/png": "[encoded data removed]",
            "text/plain": [
              "<Figure size 1152x504 with 2 Axes>"
            ]
          },
          "metadata": {
            "needs_background": "light"
          },
          "output_type": "display_data"
        }
      ],
      "source": [
        "# Get and reshape confusion matrix data\n",
        "matrix = confusion_matrix(y_test, y_pred)\n",
        "matrix = matrix.astype('float') / matrix.sum(axis=1)[:, np.newaxis]\n",
        "\n",
        "# Build the plot\n",
        "plt.figure(figsize=(16,7))\n",
        "sns.set(font_scale=1.4)\n",
        "sns.heatmap(matrix, annot=True, annot_kws={'size':10},\n",
        "            cmap=plt.cm.Greens, linewidths=0.2)\n",
        "\n",
        "plt.xlabel('Predicted label')\n",
        "plt.ylabel('True label')\n",
        "plt.title('Confusion Matrix for Random Forest Model')\n",
        "plt.show()"
      ]
    },
    {
      "cell_type": "code",
      "execution_count": null,
      "metadata": {
        "id": "fK-qQDs9WjjG"
      },
      "outputs": [],
      "source": [
        "import numpy as np\n",
        "from sklearn.model_selection import KFold, cross_val_score\n",
        "from sklearn.model_selection import train_test_split\n",
        "from sklearn.metrics import accuracy_score"
      ]
    },
    {
      "cell_type": "code",
      "execution_count": null,
      "metadata": {
        "id": "0amErtP5WjjG"
      },
      "outputs": [],
      "source": [
        "k = 5\n",
        "kf = KFold(n_splits=k, shuffle=True, random_state=42)"
      ]
    },
    {
      "cell_type": "code",
      "execution_count": null,
      "metadata": {
        "id": "JYPBbECbWjjG"
      },
      "outputs": [],
      "source": [
        "X = X_train_encoded\n",
        "y = y_train"
      ]
    },
    {
      "cell_type": "code",
      "execution_count": null,
      "metadata": {
        "id": "1PUw7ljfWjjG"
      },
      "outputs": [],
      "source": [
        "scores = cross_val_score(rfc, X, y, cv=kf, scoring='accuracy')"
      ]
    },
    {
      "cell_type": "code",
      "execution_count": null,
      "metadata": {
        "id": "eDS5Ko3kWjjG",
        "outputId": "fe843a0c-2a88-4b22-cd12-c4cd4e415542"
      },
      "outputs": [
        {
          "name": "stdout",
          "output_type": "stream",
          "text": [
            "Fold 1 Score: 0.9939\n",
            "Fold 2 Score: 0.9939\n",
            "Fold 3 Score: 0.9941\n",
            "Fold 4 Score: 0.9939\n",
            "Fold 5 Score: 0.9938\n"
          ]
        }
      ],
      "source": [
        "for fold, score in enumerate(scores):\n",
        "    print(f\"Fold {fold+1} Score: {score:.4f}\")"
      ]
    },
    {
      "cell_type": "code",
      "execution_count": null,
      "metadata": {
        "id": "lt1qgEOYWjjH",
        "outputId": "607c8533-0d1a-43e5-beec-5ffb0fce4a97"
      },
      "outputs": [
        {
          "name": "stdout",
          "output_type": "stream",
          "text": [
            "Mean Score: 0.9939\n",
            "Standard Deviation: 0.0001\n"
          ]
        }
      ],
      "source": [
        "mean_score = np.mean(scores)\n",
        "std_score = np.std(scores)\n",
        "print(f\"Mean Score: {mean_score:.4f}\")\n",
        "print(f\"Standard Deviation: {std_score:.4f}\")"
      ]
    },
    {
      "cell_type": "code",
      "execution_count": null,
      "metadata": {
        "id": "z3MyDELGWjjH"
      },
      "outputs": [],
      "source": []
    }
  ],
  "metadata": {
    "colab": {
      "machine_shape": "hm",
      "provenance": [],
      "include_colab_link": true
    },
    "kernelspec": {
      "display_name": "Python 3 (ipykernel)",
      "language": "python",
      "name": "python3"
    },
    "language_info": {
      "codemirror_mode": {
        "name": "ipython",
        "version": 3
      },
      "file_extension": ".py",
      "mimetype": "text/x-python",
      "name": "python",
      "nbconvert_exporter": "python",
      "pygments_lexer": "ipython3",
      "version": "3.9.7"
    }
  },
  "nbformat": 4,
  "nbformat_minor": 0
}